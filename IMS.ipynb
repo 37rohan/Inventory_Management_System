{
  "cells": [
    {
      "cell_type": "code",
      "execution_count": 1,
      "metadata": {
        "id": "_43xLl6m95S_"
      },
      "outputs": [],
      "source": [
        "import json"
      ]
    },
    {
      "cell_type": "code",
      "execution_count": 2,
      "metadata": {
        "id": "lEhPO6AZ0CPw"
      },
      "outputs": [],
      "source": [
        "fd = open(\"record.json\",\"w\")\n",
        "products = {'1001':{\"name\":\"Dairy Milk\",\"price\":40,\"quantity\":100},\n",
        " '1002':{\"name\":\"Barbon\",\"price\":40,\"quantity\":100},\n",
        " '1003':{\"name\":\"jackfruit juice\",\"price\":40,\"quantity\":100} ,\n",
        " '1004':{\"name\":\"Apricot Juice\",\"price\":40,\"quantity\":100},\n",
        " '1005':{\"name\":\"Butter Fruit Juice\",\"price\":40,\"quantity\":100},\n",
        " '1006':{\"name\":\"Banana Juice\",\"price\":40,\"quantity\":100},\n",
        " '1007':{\"name\":\"Cape gooseberries Juice\",\"price\":40,\"quantity\":100},\n",
        " '1008':{\"name\":\"Cherry Juice\",\"price\":40,\"quantity\":100},\n",
        " '1009':{\"name\":\"Custard apple Juice\",\"price\":40,\"quantity\":100},\n",
        " '1010':{\"name\":\"Dates Juice\",\"price\":40,\"quantity\":100},\n",
        " '1011':{\"name\":\"Plum Juice\",\"price\":40,\"quantity\":100},\n",
        " '1012':{\"name\":\"Figs Juice\",\"price\":40,\"quantity\":100},\n",
        " '1013':{\"name\":\"Grape Juice\",\"price\":40,\"quantity\":100},\n",
        " '1014':{\"name\":\"Guava Juice\",\"price\":40,\"quantity\":100},\n",
        " '1015':{\"name\":\"Kiwi Juice\",\"price\":40,\"quantity\":100},\n",
        " '1016':{\"name\":\"Lemon Juice\",\"price\":40,\"quantity\":100},\n",
        " '1017':{\"name\":\"Lychee Juice\",\"price\":40,\"quantity\":100},\n",
        " '1018':{\"name\":\"Mango Juice\",\"price\":40,\"quantity\":100},\n",
        " '1019':{\"name\":\"Papaya Juice\",\"price\":40,\"quantity\":100},\n",
        " '1020':{\"name\":\"Pineapple Juice\",\"price\":40,\"quantity\":100},\n",
        " '1021':{\"name\":\"Sapota Juice\",\"price\":40,\"quantity\":100},\n",
        " '1022':{\"name\":\"Star fruit Juice\",\"price\":40,\"quantity\":100},\n",
        " '1023':{\"name\":\"Watermelon Juice\",\"price\":40,\"quantity\":100},\n",
        " '1024':{\"name\":\"Rose Milk\",\"price\":40,\"quantity\":100},\n",
        " '1025':{\"name\":\"badam milk \",\"price\":40,\"quantity\":100},\n",
        " '1026':{\"name\":\"vannilla milk\",\"price\":40,\"quantity\":100},\n",
        " '1027':{\"name\":\"pista milk\",\"price\":40,\"quantity\":100},\n",
        " '1028':{\"name\":\"blackcurrent milk\",\"price\":40,\"quantity\":100},\n",
        " '1028':{\"name\":\"mixed juice\",\"price\":40,\"quantity\":100},\n",
        " '1030':{\"name\":\"Mojito\",\"price\":40,\"quantity\":100}}\n",
        "\n",
        "js = json.dumps(products)\n",
        "fd.write(js)\n",
        "fd.close()"
      ]
    },
    {
      "cell_type": "code",
      "execution_count": 3,
      "metadata": {
        "colab": {
          "base_uri": "https://localhost:8080/"
        },
        "id": "_iYwrsrQEujk",
        "outputId": "99becc10-294a-4a38-b658-2eb2b751a70e"
      },
      "outputs": [
        {
          "name": "stdout",
          "output_type": "stream",
          "text": [
            "Product Catalog\n",
            "product_id    product_name\n",
            "\n",
            "1001         Dairy Milk\n",
            "1002         Barbon\n",
            "1003         jackfruit juice\n",
            "1004         Apricot Juice\n",
            "1005         Butter Fruit Juice\n",
            "1006         Banana Juice\n",
            "1007         Cape gooseberries Juice\n",
            "1008         Cherry Juice\n",
            "1009         Custard apple Juice\n",
            "1010         Dates Juice\n",
            "1011         Plum Juice\n",
            "1012         Figs Juice\n",
            "1013         Grape Juice\n",
            "1014         Guava Juice\n",
            "1015         Kiwi Juice\n",
            "1016         Lemon Juice\n",
            "1017         Lychee Juice\n",
            "1018         Mango Juice\n",
            "1019         Papaya Juice\n",
            "1020         Pineapple Juice\n",
            "1021         Sapota Juice\n",
            "1022         Star fruit Juice\n",
            "1023         Watermelon Juice\n",
            "1024         Rose Milk\n",
            "1025         badam milk \n",
            "1026         vannilla milk\n",
            "1027         pista milk\n",
            "1028         mixed juice\n",
            "1030         Mojito\n"
          ]
        }
      ],
      "source": [
        "print(\"Product Catalog\")\n",
        "print(\"product_id    product_name\",end=\"\\n\\n\")\n",
        "for i in products.keys():\n",
        "    print(f\"{i}         {products[i]['name']}\")"
      ]
    },
    {
      "cell_type": "code",
      "execution_count": 8,
      "metadata": {
        "colab": {
          "base_uri": "https://localhost:8080/"
        },
        "id": "ijhNZpJi0CQO",
        "outputId": "5001463d-ea6b-45b8-c19a-1cf82a123100"
      },
      "outputs": [],
      "source": [
        "value = int(input(\"Enter the number of different Items: \\n\")) #Taking Input For how much item customer want\n",
        "fd = open(\"record.json\",\"r\")  #Open Data Source file named as \"record\"\n",
        "opn = open(\"Bill.txt\",\"w\")  #opening Bill File For generating Bill\n",
        "read = fd.read()\n",
        "data = json.loads(read)\n",
        "\n",
        "total_bill=0\n",
        "opn.write(\"****************************************************************************************\")\n",
        "for i in range(value):\n",
        "    prod_id = input(\"Enter the ID: \\n\") #Taking Input For Product ID as prod_id\n",
        "    quantity = int(input(\"Enter the quantity of product: \\n\"))  #Taking Input For Quantity as quan\n",
        "    if quantity < data[prod_id][\"quantity\"]:\n",
        "        data[prod_id][\"quantity\"] = data[prod_id][\"quantity\"] - quantity\n",
        "        total_bill += quantity * data[prod_id][\"price\"]\n",
        "    \n",
        "    opn.write(f\"\\nQuantity: {quantity}\\nProduct ID: {prod_id} \\nProduct Name: {data[prod_id]['name']} \\nPrice: {data[prod_id]['price']} \\nTotal Price: {data[prod_id]['price']} x {quantity} \\n\")\n",
        "opn.write(\"----------------------------------------\")\n",
        "opn.write(f'\\n Your Payable Amount: {total_bill}\\n')\n",
        "opn.write(\"****************************************************************************************\")\n",
        "\n",
        "opn.close()\n",
        "fd.close()\n",
        "\n"
      ]
    },
    {
      "cell_type": "code",
      "execution_count": null,
      "metadata": {
        "id": "KGPWwM2cSTgx"
      },
      "outputs": [],
      "source": []
    }
  ],
  "metadata": {
    "colab": {
      "collapsed_sections": [],
      "name": "IMS.ipynb",
      "provenance": []
    },
    "kernelspec": {
      "display_name": "Python 3",
      "language": "python",
      "name": "python3"
    },
    "language_info": {
      "codemirror_mode": {
        "name": "ipython",
        "version": 3
      },
      "file_extension": ".py",
      "mimetype": "text/x-python",
      "name": "python",
      "nbconvert_exporter": "python",
      "pygments_lexer": "ipython3",
      "version": "3.8.13"
    },
    "vscode": {
      "interpreter": {
        "hash": "9ac03a0a6051494cc606d484d27d20fce22fb7b4d169f583271e11d5ba46a56e"
      }
    }
  },
  "nbformat": 4,
  "nbformat_minor": 0
}
